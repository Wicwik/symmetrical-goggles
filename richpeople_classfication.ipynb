{
  "nbformat": 4,
  "nbformat_minor": 0,
  "metadata": {
    "colab": {
      "name": "richpeople_classfication.ipynb",
      "provenance": [],
      "collapsed_sections": []
    },
    "kernelspec": {
      "name": "python3",
      "display_name": "Python 3"
    },
    "language_info": {
      "name": "python"
    }
  },
  "cells": [
    {
      "cell_type": "markdown",
      "metadata": {
        "id": "_LBE-SlvCFRP"
      },
      "source": [
        "# **Classification problem**\n",
        "Rich people classification based on NYC taxi rides dataset.\n",
        "\n",
        "Author: Róber Belanec\n",
        "\n",
        "This notebook is an appendix to the written homework 2 to score some bonus points from task 2. (c."
      ]
    },
    {
      "cell_type": "markdown",
      "metadata": {
        "id": "l43r4vNuCo6C"
      },
      "source": [
        "At first we will download the NYC yellow taxi rides dataset. After that we will import modules and load csv files into a dataframe. We are using datasets from may, june and july 2021."
      ]
    },
    {
      "cell_type": "code",
      "metadata": {
        "colab": {
          "base_uri": "https://localhost:8080/"
        },
        "id": "3I9HBL0MnC1N",
        "outputId": "a4f707f1-8109-4071-eda2-3aea21c33fb9"
      },
      "source": [
        "!wget https://nyc-tlc.s3.amazonaws.com/trip+data/yellow_tripdata_2021-07.csv\n",
        "!wget https://s3.amazonaws.com/nyc-tlc/trip+data/yellow_tripdata_2021-06.csv\n",
        "!wget https://s3.amazonaws.com/nyc-tlc/trip+data/yellow_tripdata_2021-05.csv"
      ],
      "execution_count": 1,
      "outputs": [
        {
          "output_type": "stream",
          "name": "stdout",
          "text": [
            "--2021-11-29 17:28:42--  https://nyc-tlc.s3.amazonaws.com/trip+data/yellow_tripdata_2021-07.csv\n",
            "Resolving nyc-tlc.s3.amazonaws.com (nyc-tlc.s3.amazonaws.com)... 52.217.83.148\n",
            "Connecting to nyc-tlc.s3.amazonaws.com (nyc-tlc.s3.amazonaws.com)|52.217.83.148|:443... connected.\n",
            "HTTP request sent, awaiting response... 200 OK\n",
            "Length: 261410655 (249M) [text/csv]\n",
            "Saving to: ‘yellow_tripdata_2021-07.csv’\n",
            "\n",
            "yellow_tripdata_202 100%[===================>] 249.30M  16.1MB/s    in 18s     \n",
            "\n",
            "2021-11-29 17:29:01 (14.0 MB/s) - ‘yellow_tripdata_2021-07.csv’ saved [261410655/261410655]\n",
            "\n",
            "--2021-11-29 17:29:01--  https://s3.amazonaws.com/nyc-tlc/trip+data/yellow_tripdata_2021-06.csv\n",
            "Resolving s3.amazonaws.com (s3.amazonaws.com)... 52.216.178.245\n",
            "Connecting to s3.amazonaws.com (s3.amazonaws.com)|52.216.178.245|:443... connected.\n",
            "HTTP request sent, awaiting response... 200 OK\n",
            "Length: 262656180 (250M) [text/csv]\n",
            "Saving to: ‘yellow_tripdata_2021-06.csv’\n",
            "\n",
            "yellow_tripdata_202 100%[===================>] 250.49M  16.4MB/s    in 18s     \n",
            "\n",
            "2021-11-29 17:29:20 (13.7 MB/s) - ‘yellow_tripdata_2021-06.csv’ saved [262656180/262656180]\n",
            "\n",
            "--2021-11-29 17:29:20--  https://s3.amazonaws.com/nyc-tlc/trip+data/yellow_tripdata_2021-05.csv\n",
            "Resolving s3.amazonaws.com (s3.amazonaws.com)... 52.217.39.222\n",
            "Connecting to s3.amazonaws.com (s3.amazonaws.com)|52.217.39.222|:443... connected.\n",
            "HTTP request sent, awaiting response... 200 OK\n",
            "Length: 231988884 (221M) [text/csv]\n",
            "Saving to: ‘yellow_tripdata_2021-05.csv’\n",
            "\n",
            "yellow_tripdata_202 100%[===================>] 221.24M  15.7MB/s    in 16s     \n",
            "\n",
            "2021-11-29 17:29:37 (13.6 MB/s) - ‘yellow_tripdata_2021-05.csv’ saved [231988884/231988884]\n",
            "\n"
          ]
        }
      ]
    },
    {
      "cell_type": "code",
      "metadata": {
        "id": "Dk8jjlzfnKYR"
      },
      "source": [
        "import glob\n",
        "\n",
        "import numpy as np\n",
        "import pandas as pd\n",
        "import seaborn as sns\n",
        "import tensorflow as tf\n",
        "from matplotlib import pyplot as plt\n",
        "\n",
        "from tensorflow import keras\n",
        "from keras.models import Sequential\n",
        "from keras.layers import Conv2D, Dense, Activation, Flatten, MaxPooling2D, BatchNormalization, Dropout\n",
        "from sklearn.model_selection import train_test_split"
      ],
      "execution_count": 2,
      "outputs": []
    },
    {
      "cell_type": "code",
      "metadata": {
        "colab": {
          "base_uri": "https://localhost:8080/"
        },
        "id": "YwYcxQN8nQWC",
        "outputId": "7a8e2cc7-4b79-4a69-aa42-ca18d12cb73f"
      },
      "source": [
        "path = '/content'\n",
        "all_files = glob.glob(path + '/*.csv')\n",
        "\n",
        "li = []\n",
        "\n",
        "for filename in all_files:\n",
        "    df = pd.read_csv(filename, index_col=None, header=0)\n",
        "    li.append(df)\n",
        "\n",
        "df_yellow = pd.concat(li, axis=0, ignore_index=True)\n",
        "\n",
        "print('Old size: ', len(df_yellow))\n",
        "df_yellow = df_yellow.dropna()\n",
        "print('New size: ', len(df_yellow))"
      ],
      "execution_count": 3,
      "outputs": [
        {
          "output_type": "stream",
          "name": "stderr",
          "text": [
            "/usr/local/lib/python3.7/dist-packages/IPython/core/interactiveshell.py:2718: DtypeWarning: Columns (6) have mixed types.Specify dtype option on import or set low_memory=False.\n",
            "  interactivity=interactivity, compiler=compiler, result=result)\n"
          ]
        },
        {
          "output_type": "stream",
          "name": "stdout",
          "text": [
            "Old size:  8162888\n",
            "New size:  7781398\n"
          ]
        }
      ]
    },
    {
      "cell_type": "markdown",
      "metadata": {
        "id": "Ah7MvmBlDESY"
      },
      "source": [
        "As you can see, we have been dropping NA values from each csv. Therefore we have now 7781398 taxi rides left.\n",
        "\n",
        "Now we can check the dataset basic structure and its datatypes:"
      ]
    },
    {
      "cell_type": "code",
      "metadata": {
        "colab": {
          "base_uri": "https://localhost:8080/",
          "height": 226
        },
        "id": "besZwS-wnQyy",
        "outputId": "7269889f-3915-47b7-9147-fe232ca6be5f"
      },
      "source": [
        "df_yellow.head()"
      ],
      "execution_count": 4,
      "outputs": [
        {
          "output_type": "execute_result",
          "data": {
            "text/html": [
              "<div>\n",
              "<style scoped>\n",
              "    .dataframe tbody tr th:only-of-type {\n",
              "        vertical-align: middle;\n",
              "    }\n",
              "\n",
              "    .dataframe tbody tr th {\n",
              "        vertical-align: top;\n",
              "    }\n",
              "\n",
              "    .dataframe thead th {\n",
              "        text-align: right;\n",
              "    }\n",
              "</style>\n",
              "<table border=\"1\" class=\"dataframe\">\n",
              "  <thead>\n",
              "    <tr style=\"text-align: right;\">\n",
              "      <th></th>\n",
              "      <th>VendorID</th>\n",
              "      <th>tpep_pickup_datetime</th>\n",
              "      <th>tpep_dropoff_datetime</th>\n",
              "      <th>passenger_count</th>\n",
              "      <th>trip_distance</th>\n",
              "      <th>RatecodeID</th>\n",
              "      <th>store_and_fwd_flag</th>\n",
              "      <th>PULocationID</th>\n",
              "      <th>DOLocationID</th>\n",
              "      <th>payment_type</th>\n",
              "      <th>fare_amount</th>\n",
              "      <th>extra</th>\n",
              "      <th>mta_tax</th>\n",
              "      <th>tip_amount</th>\n",
              "      <th>tolls_amount</th>\n",
              "      <th>improvement_surcharge</th>\n",
              "      <th>total_amount</th>\n",
              "      <th>congestion_surcharge</th>\n",
              "    </tr>\n",
              "  </thead>\n",
              "  <tbody>\n",
              "    <tr>\n",
              "      <th>0</th>\n",
              "      <td>1.0</td>\n",
              "      <td>2021-05-01 00:37:18</td>\n",
              "      <td>2021-05-01 00:41:07</td>\n",
              "      <td>2.0</td>\n",
              "      <td>0.70</td>\n",
              "      <td>1.0</td>\n",
              "      <td>N</td>\n",
              "      <td>141</td>\n",
              "      <td>263</td>\n",
              "      <td>1.0</td>\n",
              "      <td>5.0</td>\n",
              "      <td>3.0</td>\n",
              "      <td>0.5</td>\n",
              "      <td>2.20</td>\n",
              "      <td>0.0</td>\n",
              "      <td>0.3</td>\n",
              "      <td>11.00</td>\n",
              "      <td>2.5</td>\n",
              "    </tr>\n",
              "    <tr>\n",
              "      <th>1</th>\n",
              "      <td>1.0</td>\n",
              "      <td>2021-05-01 00:43:01</td>\n",
              "      <td>2021-05-01 00:49:19</td>\n",
              "      <td>1.0</td>\n",
              "      <td>1.40</td>\n",
              "      <td>1.0</td>\n",
              "      <td>N</td>\n",
              "      <td>263</td>\n",
              "      <td>75</td>\n",
              "      <td>2.0</td>\n",
              "      <td>6.5</td>\n",
              "      <td>3.0</td>\n",
              "      <td>0.5</td>\n",
              "      <td>0.00</td>\n",
              "      <td>0.0</td>\n",
              "      <td>0.3</td>\n",
              "      <td>10.30</td>\n",
              "      <td>2.5</td>\n",
              "    </tr>\n",
              "    <tr>\n",
              "      <th>2</th>\n",
              "      <td>1.0</td>\n",
              "      <td>2021-05-01 00:05:54</td>\n",
              "      <td>2021-05-01 00:31:46</td>\n",
              "      <td>1.0</td>\n",
              "      <td>5.70</td>\n",
              "      <td>1.0</td>\n",
              "      <td>N</td>\n",
              "      <td>142</td>\n",
              "      <td>129</td>\n",
              "      <td>2.0</td>\n",
              "      <td>21.5</td>\n",
              "      <td>3.0</td>\n",
              "      <td>0.5</td>\n",
              "      <td>0.00</td>\n",
              "      <td>0.0</td>\n",
              "      <td>0.3</td>\n",
              "      <td>25.30</td>\n",
              "      <td>2.5</td>\n",
              "    </tr>\n",
              "    <tr>\n",
              "      <th>3</th>\n",
              "      <td>2.0</td>\n",
              "      <td>2021-05-01 00:08:21</td>\n",
              "      <td>2021-05-01 00:19:20</td>\n",
              "      <td>1.0</td>\n",
              "      <td>3.04</td>\n",
              "      <td>1.0</td>\n",
              "      <td>N</td>\n",
              "      <td>231</td>\n",
              "      <td>97</td>\n",
              "      <td>1.0</td>\n",
              "      <td>11.5</td>\n",
              "      <td>0.5</td>\n",
              "      <td>0.5</td>\n",
              "      <td>3.06</td>\n",
              "      <td>0.0</td>\n",
              "      <td>0.3</td>\n",
              "      <td>18.36</td>\n",
              "      <td>2.5</td>\n",
              "    </tr>\n",
              "    <tr>\n",
              "      <th>4</th>\n",
              "      <td>2.0</td>\n",
              "      <td>2021-05-01 00:32:44</td>\n",
              "      <td>2021-05-01 00:48:44</td>\n",
              "      <td>1.0</td>\n",
              "      <td>4.04</td>\n",
              "      <td>1.0</td>\n",
              "      <td>N</td>\n",
              "      <td>148</td>\n",
              "      <td>17</td>\n",
              "      <td>1.0</td>\n",
              "      <td>15.5</td>\n",
              "      <td>0.5</td>\n",
              "      <td>0.5</td>\n",
              "      <td>5.79</td>\n",
              "      <td>0.0</td>\n",
              "      <td>0.3</td>\n",
              "      <td>25.09</td>\n",
              "      <td>2.5</td>\n",
              "    </tr>\n",
              "  </tbody>\n",
              "</table>\n",
              "</div>"
            ],
            "text/plain": [
              "   VendorID tpep_pickup_datetime  ... total_amount  congestion_surcharge\n",
              "0       1.0  2021-05-01 00:37:18  ...        11.00                   2.5\n",
              "1       1.0  2021-05-01 00:43:01  ...        10.30                   2.5\n",
              "2       1.0  2021-05-01 00:05:54  ...        25.30                   2.5\n",
              "3       2.0  2021-05-01 00:08:21  ...        18.36                   2.5\n",
              "4       2.0  2021-05-01 00:32:44  ...        25.09                   2.5\n",
              "\n",
              "[5 rows x 18 columns]"
            ]
          },
          "metadata": {},
          "execution_count": 4
        }
      ]
    },
    {
      "cell_type": "code",
      "metadata": {
        "colab": {
          "base_uri": "https://localhost:8080/"
        },
        "id": "lLtBYztBnUFU",
        "outputId": "a0df8c44-dd42-4920-a8e4-75db90b07852"
      },
      "source": [
        "df_yellow.dtypes"
      ],
      "execution_count": 5,
      "outputs": [
        {
          "output_type": "execute_result",
          "data": {
            "text/plain": [
              "VendorID                 float64\n",
              "tpep_pickup_datetime      object\n",
              "tpep_dropoff_datetime     object\n",
              "passenger_count          float64\n",
              "trip_distance            float64\n",
              "RatecodeID               float64\n",
              "store_and_fwd_flag        object\n",
              "PULocationID               int64\n",
              "DOLocationID               int64\n",
              "payment_type             float64\n",
              "fare_amount              float64\n",
              "extra                    float64\n",
              "mta_tax                  float64\n",
              "tip_amount               float64\n",
              "tolls_amount             float64\n",
              "improvement_surcharge    float64\n",
              "total_amount             float64\n",
              "congestion_surcharge     float64\n",
              "dtype: object"
            ]
          },
          "metadata": {},
          "execution_count": 5
        }
      ]
    },
    {
      "cell_type": "markdown",
      "metadata": {
        "id": "m0wMy9pEEAIe"
      },
      "source": [
        "To see value anges means and more, we can use pandas describe function:"
      ]
    },
    {
      "cell_type": "code",
      "metadata": {
        "colab": {
          "base_uri": "https://localhost:8080/",
          "height": 320
        },
        "id": "Y1nRpQHsnZdv",
        "outputId": "b404ff54-ce28-4d47-8eb7-02d7f3d21767"
      },
      "source": [
        "df_yellow.describe()"
      ],
      "execution_count": 6,
      "outputs": [
        {
          "output_type": "execute_result",
          "data": {
            "text/html": [
              "<div>\n",
              "<style scoped>\n",
              "    .dataframe tbody tr th:only-of-type {\n",
              "        vertical-align: middle;\n",
              "    }\n",
              "\n",
              "    .dataframe tbody tr th {\n",
              "        vertical-align: top;\n",
              "    }\n",
              "\n",
              "    .dataframe thead th {\n",
              "        text-align: right;\n",
              "    }\n",
              "</style>\n",
              "<table border=\"1\" class=\"dataframe\">\n",
              "  <thead>\n",
              "    <tr style=\"text-align: right;\">\n",
              "      <th></th>\n",
              "      <th>VendorID</th>\n",
              "      <th>passenger_count</th>\n",
              "      <th>trip_distance</th>\n",
              "      <th>RatecodeID</th>\n",
              "      <th>PULocationID</th>\n",
              "      <th>DOLocationID</th>\n",
              "      <th>payment_type</th>\n",
              "      <th>fare_amount</th>\n",
              "      <th>extra</th>\n",
              "      <th>mta_tax</th>\n",
              "      <th>tip_amount</th>\n",
              "      <th>tolls_amount</th>\n",
              "      <th>improvement_surcharge</th>\n",
              "      <th>total_amount</th>\n",
              "      <th>congestion_surcharge</th>\n",
              "    </tr>\n",
              "  </thead>\n",
              "  <tbody>\n",
              "    <tr>\n",
              "      <th>count</th>\n",
              "      <td>7.781398e+06</td>\n",
              "      <td>7.781398e+06</td>\n",
              "      <td>7.781398e+06</td>\n",
              "      <td>7.781398e+06</td>\n",
              "      <td>7.781398e+06</td>\n",
              "      <td>7.781398e+06</td>\n",
              "      <td>7.781398e+06</td>\n",
              "      <td>7.781398e+06</td>\n",
              "      <td>7.781398e+06</td>\n",
              "      <td>7.781398e+06</td>\n",
              "      <td>7.781398e+06</td>\n",
              "      <td>7.781398e+06</td>\n",
              "      <td>7.781398e+06</td>\n",
              "      <td>7.781398e+06</td>\n",
              "      <td>7.781398e+06</td>\n",
              "    </tr>\n",
              "    <tr>\n",
              "      <th>mean</th>\n",
              "      <td>1.695512e+00</td>\n",
              "      <td>1.440628e+00</td>\n",
              "      <td>3.038025e+00</td>\n",
              "      <td>1.054315e+00</td>\n",
              "      <td>1.653180e+02</td>\n",
              "      <td>1.632367e+02</td>\n",
              "      <td>1.250852e+00</td>\n",
              "      <td>1.268655e+01</td>\n",
              "      <td>1.044107e+00</td>\n",
              "      <td>4.924701e-01</td>\n",
              "      <td>2.303809e+00</td>\n",
              "      <td>3.335950e-01</td>\n",
              "      <td>2.970423e-01</td>\n",
              "      <td>1.879308e+01</td>\n",
              "      <td>2.286863e+00</td>\n",
              "    </tr>\n",
              "    <tr>\n",
              "      <th>std</th>\n",
              "      <td>4.601902e-01</td>\n",
              "      <td>1.049367e+00</td>\n",
              "      <td>6.432167e+00</td>\n",
              "      <td>8.834931e-01</td>\n",
              "      <td>6.566293e+01</td>\n",
              "      <td>7.048385e+01</td>\n",
              "      <td>4.725840e-01</td>\n",
              "      <td>1.197728e+01</td>\n",
              "      <td>1.243526e+00</td>\n",
              "      <td>7.759291e-02</td>\n",
              "      <td>2.734579e+00</td>\n",
              "      <td>1.736321e+00</td>\n",
              "      <td>4.151922e-02</td>\n",
              "      <td>1.462989e+01</td>\n",
              "      <td>7.316379e-01</td>\n",
              "    </tr>\n",
              "    <tr>\n",
              "      <th>min</th>\n",
              "      <td>1.000000e+00</td>\n",
              "      <td>0.000000e+00</td>\n",
              "      <td>0.000000e+00</td>\n",
              "      <td>1.000000e+00</td>\n",
              "      <td>1.000000e+00</td>\n",
              "      <td>1.000000e+00</td>\n",
              "      <td>1.000000e+00</td>\n",
              "      <td>-6.435000e+02</td>\n",
              "      <td>-5.500000e+00</td>\n",
              "      <td>-5.000000e-01</td>\n",
              "      <td>-1.111000e+02</td>\n",
              "      <td>-3.375000e+01</td>\n",
              "      <td>-3.000000e-01</td>\n",
              "      <td>-6.478000e+02</td>\n",
              "      <td>-2.500000e+00</td>\n",
              "    </tr>\n",
              "    <tr>\n",
              "      <th>25%</th>\n",
              "      <td>1.000000e+00</td>\n",
              "      <td>1.000000e+00</td>\n",
              "      <td>1.080000e+00</td>\n",
              "      <td>1.000000e+00</td>\n",
              "      <td>1.320000e+02</td>\n",
              "      <td>1.130000e+02</td>\n",
              "      <td>1.000000e+00</td>\n",
              "      <td>6.500000e+00</td>\n",
              "      <td>0.000000e+00</td>\n",
              "      <td>5.000000e-01</td>\n",
              "      <td>0.000000e+00</td>\n",
              "      <td>0.000000e+00</td>\n",
              "      <td>3.000000e-01</td>\n",
              "      <td>1.147000e+01</td>\n",
              "      <td>2.500000e+00</td>\n",
              "    </tr>\n",
              "    <tr>\n",
              "      <th>50%</th>\n",
              "      <td>2.000000e+00</td>\n",
              "      <td>1.000000e+00</td>\n",
              "      <td>1.800000e+00</td>\n",
              "      <td>1.000000e+00</td>\n",
              "      <td>1.620000e+02</td>\n",
              "      <td>1.620000e+02</td>\n",
              "      <td>1.000000e+00</td>\n",
              "      <td>9.000000e+00</td>\n",
              "      <td>5.000000e-01</td>\n",
              "      <td>5.000000e-01</td>\n",
              "      <td>2.000000e+00</td>\n",
              "      <td>0.000000e+00</td>\n",
              "      <td>3.000000e-01</td>\n",
              "      <td>1.476000e+01</td>\n",
              "      <td>2.500000e+00</td>\n",
              "    </tr>\n",
              "    <tr>\n",
              "      <th>75%</th>\n",
              "      <td>2.000000e+00</td>\n",
              "      <td>2.000000e+00</td>\n",
              "      <td>3.130000e+00</td>\n",
              "      <td>1.000000e+00</td>\n",
              "      <td>2.340000e+02</td>\n",
              "      <td>2.340000e+02</td>\n",
              "      <td>1.000000e+00</td>\n",
              "      <td>1.400000e+01</td>\n",
              "      <td>2.500000e+00</td>\n",
              "      <td>5.000000e-01</td>\n",
              "      <td>3.000000e+00</td>\n",
              "      <td>0.000000e+00</td>\n",
              "      <td>3.000000e-01</td>\n",
              "      <td>2.016000e+01</td>\n",
              "      <td>2.500000e+00</td>\n",
              "    </tr>\n",
              "    <tr>\n",
              "      <th>max</th>\n",
              "      <td>2.000000e+00</td>\n",
              "      <td>9.000000e+00</td>\n",
              "      <td>1.315552e+04</td>\n",
              "      <td>9.900000e+01</td>\n",
              "      <td>2.650000e+02</td>\n",
              "      <td>2.650000e+02</td>\n",
              "      <td>5.000000e+00</td>\n",
              "      <td>5.954000e+03</td>\n",
              "      <td>9.006000e+01</td>\n",
              "      <td>4.550000e+00</td>\n",
              "      <td>4.492100e+02</td>\n",
              "      <td>9.565500e+02</td>\n",
              "      <td>3.000000e-01</td>\n",
              "      <td>5.954000e+03</td>\n",
              "      <td>2.750000e+00</td>\n",
              "    </tr>\n",
              "  </tbody>\n",
              "</table>\n",
              "</div>"
            ],
            "text/plain": [
              "           VendorID  passenger_count  ...  total_amount  congestion_surcharge\n",
              "count  7.781398e+06     7.781398e+06  ...  7.781398e+06          7.781398e+06\n",
              "mean   1.695512e+00     1.440628e+00  ...  1.879308e+01          2.286863e+00\n",
              "std    4.601902e-01     1.049367e+00  ...  1.462989e+01          7.316379e-01\n",
              "min    1.000000e+00     0.000000e+00  ... -6.478000e+02         -2.500000e+00\n",
              "25%    1.000000e+00     1.000000e+00  ...  1.147000e+01          2.500000e+00\n",
              "50%    2.000000e+00     1.000000e+00  ...  1.476000e+01          2.500000e+00\n",
              "75%    2.000000e+00     2.000000e+00  ...  2.016000e+01          2.500000e+00\n",
              "max    2.000000e+00     9.000000e+00  ...  5.954000e+03          2.750000e+00\n",
              "\n",
              "[8 rows x 15 columns]"
            ]
          },
          "metadata": {},
          "execution_count": 6
        }
      ]
    },
    {
      "cell_type": "markdown",
      "metadata": {
        "id": "EeF0C0f2EKaT"
      },
      "source": [
        "As we have stated in our written homework, to predict, if the customer is rather rich, we will be using drop off location, passenger count and tip amount. We will pick only those and rename the columns.\n",
        "\n",
        "We can also find passenger count values that are 0. We will replace them with 1 as we assume that it's not possible to have 0 passengers."
      ]
    },
    {
      "cell_type": "code",
      "metadata": {
        "id": "Z8zY4yKYnbTX"
      },
      "source": [
        "df_important = df_yellow[['DOLocationID', 'passenger_count', 'tip_amount']].rename(columns={'DOLocationID':'location', 'passenger_count':'passengers', 'tip_amount':'tip'})\n",
        "df_important['passengers'].replace({0:1}, inplace=True)"
      ],
      "execution_count": 7,
      "outputs": []
    },
    {
      "cell_type": "markdown",
      "metadata": {
        "id": "TOOsHzB0Fp6d"
      },
      "source": [
        "Now we will calculate the tip per passenger and get a mean from it."
      ]
    },
    {
      "cell_type": "code",
      "metadata": {
        "colab": {
          "base_uri": "https://localhost:8080/"
        },
        "id": "y8pFlZdioNBM",
        "outputId": "06d3fad5-491d-4666-f07f-f3765c471b82"
      },
      "source": [
        "tips = (df_important['tip'] / df_important['passengers'])\n",
        "tips_mean = tips.mean()\n",
        "print('Mean of tips per passenger:', tips_mean)"
      ],
      "execution_count": 8,
      "outputs": [
        {
          "output_type": "stream",
          "name": "stdout",
          "text": [
            "Mean of tips per passenger: 1.9522823101731621\n"
          ]
        }
      ]
    },
    {
      "cell_type": "markdown",
      "metadata": {
        "id": "Aq6E-wKwF0CP"
      },
      "source": [
        "As we can see, the mean is around 1.95 per passenger. Now we will set the marigin 1 that will mean that every ride that had tip more than 2.95"
      ]
    },
    {
      "cell_type": "code",
      "metadata": {
        "colab": {
          "base_uri": "https://localhost:8080/"
        },
        "id": "ExJvqSndtViZ",
        "outputId": "e37e0383-efd3-4a21-b572-af2afb37fc29"
      },
      "source": [
        "margin = 1\n",
        "print('Number of rich people: ', len(df_important.loc[df_important['tip'] / df_important['passengers'] > tips_mean + margin]))\n",
        "print('Number of not rich people: ', len(df_important.loc[df_important['tip'] / df_important['passengers'] <= tips_mean + margin]))"
      ],
      "execution_count": 9,
      "outputs": [
        {
          "output_type": "stream",
          "name": "stdout",
          "text": [
            "Number of rich people:  1631059\n",
            "Number of not rich people:  6150339\n"
          ]
        }
      ]
    },
    {
      "cell_type": "code",
      "metadata": {
        "colab": {
          "base_uri": "https://localhost:8080/",
          "height": 206
        },
        "id": "qxbCjLDvtX36",
        "outputId": "afb61c5e-d08a-4c55-f3aa-fe4708428666"
      },
      "source": [
        "df_important.loc[df_important['tip'] / df_important['passengers'] > tips_mean + margin, 'rich'] = 1\n",
        "df_important.loc[df_important['tip'] / df_important['passengers'] <= tips_mean + margin, 'rich'] = 0\n",
        "df_important.head()"
      ],
      "execution_count": 10,
      "outputs": [
        {
          "output_type": "execute_result",
          "data": {
            "text/html": [
              "<div>\n",
              "<style scoped>\n",
              "    .dataframe tbody tr th:only-of-type {\n",
              "        vertical-align: middle;\n",
              "    }\n",
              "\n",
              "    .dataframe tbody tr th {\n",
              "        vertical-align: top;\n",
              "    }\n",
              "\n",
              "    .dataframe thead th {\n",
              "        text-align: right;\n",
              "    }\n",
              "</style>\n",
              "<table border=\"1\" class=\"dataframe\">\n",
              "  <thead>\n",
              "    <tr style=\"text-align: right;\">\n",
              "      <th></th>\n",
              "      <th>location</th>\n",
              "      <th>passengers</th>\n",
              "      <th>tip</th>\n",
              "      <th>rich</th>\n",
              "    </tr>\n",
              "  </thead>\n",
              "  <tbody>\n",
              "    <tr>\n",
              "      <th>0</th>\n",
              "      <td>263</td>\n",
              "      <td>2.0</td>\n",
              "      <td>2.20</td>\n",
              "      <td>0.0</td>\n",
              "    </tr>\n",
              "    <tr>\n",
              "      <th>1</th>\n",
              "      <td>75</td>\n",
              "      <td>1.0</td>\n",
              "      <td>0.00</td>\n",
              "      <td>0.0</td>\n",
              "    </tr>\n",
              "    <tr>\n",
              "      <th>2</th>\n",
              "      <td>129</td>\n",
              "      <td>1.0</td>\n",
              "      <td>0.00</td>\n",
              "      <td>0.0</td>\n",
              "    </tr>\n",
              "    <tr>\n",
              "      <th>3</th>\n",
              "      <td>97</td>\n",
              "      <td>1.0</td>\n",
              "      <td>3.06</td>\n",
              "      <td>1.0</td>\n",
              "    </tr>\n",
              "    <tr>\n",
              "      <th>4</th>\n",
              "      <td>17</td>\n",
              "      <td>1.0</td>\n",
              "      <td>5.79</td>\n",
              "      <td>1.0</td>\n",
              "    </tr>\n",
              "  </tbody>\n",
              "</table>\n",
              "</div>"
            ],
            "text/plain": [
              "   location  passengers   tip  rich\n",
              "0       263         2.0  2.20   0.0\n",
              "1        75         1.0  0.00   0.0\n",
              "2       129         1.0  0.00   0.0\n",
              "3        97         1.0  3.06   1.0\n",
              "4        17         1.0  5.79   1.0"
            ]
          },
          "metadata": {},
          "execution_count": 10
        }
      ]
    },
    {
      "cell_type": "code",
      "metadata": {
        "colab": {
          "base_uri": "https://localhost:8080/",
          "height": 362
        },
        "id": "7_m3Khsl8G96",
        "outputId": "b1c67e74-9769-495d-fbc8-a7661ae94e3b"
      },
      "source": [
        "sns.countplot(df_important['rich'])"
      ],
      "execution_count": 11,
      "outputs": [
        {
          "output_type": "stream",
          "name": "stderr",
          "text": [
            "/usr/local/lib/python3.7/dist-packages/seaborn/_decorators.py:43: FutureWarning: Pass the following variable as a keyword arg: x. From version 0.12, the only valid positional argument will be `data`, and passing other arguments without an explicit keyword will result in an error or misinterpretation.\n",
            "  FutureWarning\n"
          ]
        },
        {
          "output_type": "execute_result",
          "data": {
            "text/plain": [
              "<matplotlib.axes._subplots.AxesSubplot at 0x7fcd84dc0a10>"
            ]
          },
          "metadata": {},
          "execution_count": 11
        },
        {
          "output_type": "display_data",
          "data": {
            "image/png": "[encoded data removed]",
            "text/plain": [
              "<Figure size 432x288 with 1 Axes>"
            ]
          },
          "metadata": {
            "needs_background": "light"
          }
        }
      ]
    },
    {
      "cell_type": "markdown",
      "metadata": {
        "id": "0FBgFwA-Y3fW"
      },
      "source": [
        "In the picture above we can see ratio of rich people to not rich people based on our rich people determinantion. "
      ]
    },
    {
      "cell_type": "code",
      "metadata": {
        "colab": {
          "base_uri": "https://localhost:8080/"
        },
        "id": "idQeJvg-8ruY",
        "outputId": "2041c948-3a3b-4cb9-ea69-e89c8891c168"
      },
      "source": [
        "data = df_important.to_numpy()\n",
        "X = data[:, :-1]\n",
        "y = data[:, -1]\n",
        "\n",
        "print('Data shape: ', data.shape)\n",
        "print('X shape: ', X.shape)\n",
        "print('y shape: ', y.shape)\n",
        "\n",
        "X_train ,X_test, y_train, y_test = train_test_split(X, y, test_size=0.33)\n",
        "\n",
        "print('X_train shape: ', X_train.shape)\n",
        "print('y_train shape: ', y_train.shape)\n",
        "print('X_test shape: ', X_test.shape)\n",
        "print('y_test shape: ', y_test.shape)"
      ],
      "execution_count": 12,
      "outputs": [
        {
          "output_type": "stream",
          "name": "stdout",
          "text": [
            "Data shape:  (7781398, 4)\n",
            "X shape:  (7781398, 3)\n",
            "y shape:  (7781398,)\n",
            "X_train shape:  (5213536, 3)\n",
            "y_train shape:  (5213536,)\n",
            "X_test shape:  (2567862, 3)\n",
            "y_test shape:  (2567862,)\n"
          ]
        }
      ]
    },
    {
      "cell_type": "markdown",
      "metadata": {
        "id": "YUAU1WKhnJCx"
      },
      "source": [
        "Our first attempt was to use SVMs for this problem. But regarding to SO [article](https://datascience.stackexchange.com/questions/989/svm-using-scikit-learn-runs-endlessly-and-never-completes-execution), it's not recomended to use SVM when we have over 200K observations (or we can approximate the kernel matrix using K-means). We will use neural networks then."
      ]
    },
    {
      "cell_type": "markdown",
      "metadata": {
        "id": "h1dM3woLYK0H"
      },
      "source": [
        "## 1. model training:"
      ]
    },
    {
      "cell_type": "code",
      "metadata": {
        "colab": {
          "base_uri": "https://localhost:8080/"
        },
        "id": "Cjt3dehRIF7_",
        "outputId": "84d2cec5-afa0-4673-a3d0-26c4a63574dc"
      },
      "source": [
        "mlp = Sequential()\n",
        "mlp.add(Dense(100, activation='tanh', input_dim=X_train.shape[1]))\n",
        "mlp.add(Dense(100, activation='tanh'))\n",
        "mlp.add(Dense(2, activation='softmax'))\n",
        "\n",
        "mlp.compile(loss='categorical_crossentropy', optimizer=keras.optimizers.Adam(0.04),  metrics=['accuracy'])\n",
        "\n",
        "history = mlp.fit(X_train, tf.keras.utils.to_categorical(y_train), epochs=30, validation_split=0.1, verbose=True)"
      ],
      "execution_count": null,
      "outputs": [
        {
          "output_type": "stream",
          "name": "stdout",
          "text": [
            "Epoch 1/30\n",
            "146631/146631 [==============================] - 332s 2ms/step - loss: 0.5161 - accuracy: 0.8023 - val_loss: 0.5828 - val_accuracy: 0.8877\n",
            "Epoch 2/30\n",
            "146631/146631 [==============================] - 337s 2ms/step - loss: 0.4198 - accuracy: 0.8371 - val_loss: 0.3548 - val_accuracy: 0.8766\n",
            "Epoch 3/30\n",
            "146631/146631 [==============================] - 333s 2ms/step - loss: 0.3759 - accuracy: 0.8568 - val_loss: 0.3172 - val_accuracy: 0.8876\n",
            "Epoch 4/30\n",
            "146631/146631 [==============================] - 332s 2ms/step - loss: 0.3354 - accuracy: 0.8696 - val_loss: 0.3695 - val_accuracy: 0.8229\n",
            "Epoch 5/30\n",
            "146631/146631 [==============================] - 332s 2ms/step - loss: 0.3340 - accuracy: 0.8733 - val_loss: 0.3784 - val_accuracy: 0.8699\n",
            "Epoch 6/30\n",
            "146631/146631 [==============================] - 337s 2ms/step - loss: 0.3221 - accuracy: 0.8811 - val_loss: 0.3300 - val_accuracy: 0.8744\n",
            "Epoch 7/30\n",
            "146631/146631 [==============================] - 340s 2ms/step - loss: 0.3149 - accuracy: 0.8794 - val_loss: 0.1986 - val_accuracy: 0.9678\n",
            "Epoch 8/30\n",
            "146631/146631 [==============================] - 343s 2ms/step - loss: 0.2865 - accuracy: 0.8866 - val_loss: 0.1950 - val_accuracy: 0.9570\n",
            "Epoch 9/30\n",
            "146631/146631 [==============================] - 337s 2ms/step - loss: 0.2800 - accuracy: 0.8928 - val_loss: 0.2446 - val_accuracy: 0.9027\n",
            "Epoch 10/30\n",
            "146631/146631 [==============================] - 329s 2ms/step - loss: 0.2915 - accuracy: 0.8866 - val_loss: 0.2686 - val_accuracy: 0.8980\n",
            "Epoch 11/30\n",
            "146631/146631 [==============================] - 338s 2ms/step - loss: 0.2732 - accuracy: 0.8923 - val_loss: 0.2216 - val_accuracy: 0.9124\n",
            "Epoch 12/30\n",
            "146631/146631 [==============================] - 331s 2ms/step - loss: 0.2781 - accuracy: 0.8958 - val_loss: 0.1324 - val_accuracy: 0.9315\n",
            "Epoch 13/30\n",
            "146631/146631 [==============================] - 326s 2ms/step - loss: 0.2834 - accuracy: 0.8980 - val_loss: 0.3758 - val_accuracy: 0.8786\n",
            "Epoch 14/30\n",
            "146631/146631 [==============================] - 330s 2ms/step - loss: 0.2754 - accuracy: 0.8922 - val_loss: 0.1705 - val_accuracy: 0.9521\n",
            "Epoch 15/30\n",
            "146631/146631 [==============================] - 327s 2ms/step - loss: 0.2527 - accuracy: 0.9055 - val_loss: 0.2620 - val_accuracy: 0.9307\n",
            "Epoch 16/30\n",
            "146631/146631 [==============================] - 322s 2ms/step - loss: 0.2719 - accuracy: 0.8964 - val_loss: 0.0583 - val_accuracy: 0.9813\n",
            "Epoch 17/30\n",
            "146631/146631 [==============================] - 325s 2ms/step - loss: 0.2655 - accuracy: 0.8975 - val_loss: 0.2191 - val_accuracy: 0.9115\n",
            "Epoch 18/30\n",
            "146631/146631 [==============================] - 330s 2ms/step - loss: 0.2656 - accuracy: 0.8984 - val_loss: 0.2761 - val_accuracy: 0.8791\n",
            "Epoch 19/30\n",
            "146631/146631 [==============================] - 329s 2ms/step - loss: 0.2639 - accuracy: 0.9066 - val_loss: 0.2336 - val_accuracy: 0.9181\n",
            "Epoch 20/30\n",
            "146631/146631 [==============================] - 328s 2ms/step - loss: 0.2525 - accuracy: 0.9120 - val_loss: 0.0792 - val_accuracy: 0.9506\n",
            "Epoch 21/30\n",
            "146631/146631 [==============================] - 330s 2ms/step - loss: 0.2560 - accuracy: 0.9090 - val_loss: 0.2138 - val_accuracy: 0.9556\n",
            "Epoch 22/30\n",
            "146631/146631 [==============================] - 328s 2ms/step - loss: 0.2622 - accuracy: 0.8981 - val_loss: 0.4960 - val_accuracy: 0.9059\n",
            "Epoch 23/30\n",
            "146631/146631 [==============================] - 324s 2ms/step - loss: 0.2870 - accuracy: 0.8993 - val_loss: 0.2771 - val_accuracy: 0.8891\n",
            "Epoch 24/30\n",
            "146631/146631 [==============================] - 327s 2ms/step - loss: 0.2636 - accuracy: 0.9045 - val_loss: 0.1951 - val_accuracy: 0.9675\n",
            "Epoch 25/30\n",
            "146631/146631 [==============================] - 329s 2ms/step - loss: 0.2294 - accuracy: 0.9214 - val_loss: 0.2154 - val_accuracy: 0.8737\n",
            "Epoch 26/30\n",
            "146631/146631 [==============================] - 328s 2ms/step - loss: 0.2404 - accuracy: 0.9184 - val_loss: 0.0869 - val_accuracy: 0.9869\n",
            "Epoch 27/30\n",
            "146631/146631 [==============================] - 322s 2ms/step - loss: 0.2252 - accuracy: 0.9150 - val_loss: 0.2225 - val_accuracy: 0.8954\n",
            "Epoch 28/30\n",
            "146631/146631 [==============================] - 328s 2ms/step - loss: 0.2582 - accuracy: 0.9010 - val_loss: 0.0759 - val_accuracy: 0.9869\n",
            "Epoch 29/30\n",
            "146631/146631 [==============================] - 333s 2ms/step - loss: 0.2327 - accuracy: 0.9168 - val_loss: 0.2931 - val_accuracy: 0.9322\n",
            "Epoch 30/30\n",
            "146631/146631 [==============================] - 333s 2ms/step - loss: 0.2100 - accuracy: 0.9199 - val_loss: 0.1730 - val_accuracy: 0.8739\n"
          ]
        }
      ]
    },
    {
      "cell_type": "code",
      "metadata": {
        "colab": {
          "base_uri": "https://localhost:8080/",
          "height": 514
        },
        "id": "cymYfL2bpGAD",
        "outputId": "a13339e8-fffc-4ed4-c1cc-d0e2df7b3e7a"
      },
      "source": [
        "plt.figure()\n",
        "plt.plot(history.history['loss'], label='training loss')\n",
        "plt.plot(history.history['val_loss'], label='validation loss')\n",
        "plt.legend(loc='best')\n",
        "\n",
        "plt.figure()\n",
        "plt.plot(history.history['accuracy'], label='train accuracy')\n",
        "plt.plot(history.history['val_accuracy'], label='validation accuracy')\n",
        "plt.legend(loc='best')\n",
        "plt.show()"
      ],
      "execution_count": null,
      "outputs": [
        {
          "output_type": "display_data",
          "data": {
            "image/png": "[encoded data removed]",
            "text/plain": [
              "<Figure size 432x288 with 1 Axes>"
            ]
          },
          "metadata": {
            "needs_background": "light"
          }
        },
        {
          "output_type": "display_data",
          "data": {
            "image/png": "[encoded data removed]",
            "text/plain": [
              "<Figure size 432x288 with 1 Axes>"
            ]
          },
          "metadata": {
            "needs_background": "light"
          }
        }
      ]
    },
    {
      "cell_type": "code",
      "metadata": {
        "colab": {
          "base_uri": "https://localhost:8080/"
        },
        "id": "SrW5d_yuG2_6",
        "outputId": "29d75de0-8649-4417-d0a1-7c39f172fcbd"
      },
      "source": [
        "train_score = mlp.evaluate(X_train, tf.keras.utils.to_categorical(y_train))\n",
        "print(\"\\n\\ntrain loss: {} | train acc: {}\\n\".format(train_score[0], train_score[1]))\n",
        "\n",
        "test_score = mlp.evaluate(X_test, tf.keras.utils.to_categorical(y_test))\n",
        "print(\"\\n\\ntest loss: {} | test acc: {}\".format(test_score[0], test_score[1]))"
      ],
      "execution_count": null,
      "outputs": [
        {
          "output_type": "stream",
          "name": "stdout",
          "text": [
            "162923/162923 [==============================] - 308s 2ms/step - loss: 0.1737 - accuracy: 0.8737\n",
            "\n",
            "\n",
            "train loss: 0.17368768155574799 | train acc: 0.8736529350280762\n",
            "\n",
            "80246/80246 [==============================] - 113s 1ms/step - loss: 0.1744 - accuracy: 0.8736\n",
            "\n",
            "\n",
            "test loss: 0.17438951134681702 | test acc: 0.8735967874526978\n"
          ]
        }
      ]
    },
    {
      "cell_type": "markdown",
      "metadata": {
        "id": "jECMgZtKYSFG"
      },
      "source": [
        "Ass we can see the test score is not great, not terrible. Lets try another model."
      ]
    },
    {
      "cell_type": "markdown",
      "metadata": {
        "id": "Kt8zoIA2ZM4b"
      },
      "source": [
        "## 2. model training"
      ]
    },
    {
      "cell_type": "code",
      "metadata": {
        "colab": {
          "base_uri": "https://localhost:8080/"
        },
        "id": "w9yH--gSYJs7",
        "outputId": "9dc0205e-2482-4588-808f-69f5958c1ca3"
      },
      "source": [
        "mlp = Sequential()\n",
        "mlp.add(Dense(5, kernel_initializer='normal', activation='relu', input_dim=X_train.shape[1]))\n",
        "mlp.add(Dense(1, kernel_initializer='normal', activation='sigmoid'))\n",
        "\n",
        "mlp.compile(loss='binary_crossentropy', optimizer=keras.optimizers.Adam(0.01),  metrics=['accuracy'])\n",
        "\n",
        "history = mlp.fit(X_train, y_train, epochs=10, validation_split=0.1, verbose=True)"
      ],
      "execution_count": 13,
      "outputs": [
        {
          "output_type": "stream",
          "name": "stdout",
          "text": [
            "Epoch 1/10\n",
            "146631/146631 [==============================] - 227s 2ms/step - loss: 0.0362 - accuracy: 0.9854 - val_loss: 0.0148 - val_accuracy: 0.9999\n",
            "Epoch 2/10\n",
            "146631/146631 [==============================] - 227s 2ms/step - loss: 0.0234 - accuracy: 0.9903 - val_loss: 0.0120 - val_accuracy: 1.0000\n",
            "Epoch 3/10\n",
            "146631/146631 [==============================] - 231s 2ms/step - loss: 0.0206 - accuracy: 0.9915 - val_loss: 0.0187 - val_accuracy: 0.9902\n",
            "Epoch 4/10\n",
            "146631/146631 [==============================] - 232s 2ms/step - loss: 0.0189 - accuracy: 0.9921 - val_loss: 0.0151 - val_accuracy: 0.9941\n",
            "Epoch 5/10\n",
            "146631/146631 [==============================] - 242s 2ms/step - loss: 0.0177 - accuracy: 0.9925 - val_loss: 0.0110 - val_accuracy: 0.9953\n",
            "Epoch 6/10\n",
            "146631/146631 [==============================] - 250s 2ms/step - loss: 0.0168 - accuracy: 0.9928 - val_loss: 0.0104 - val_accuracy: 0.9981\n",
            "Epoch 7/10\n",
            "146631/146631 [==============================] - 239s 2ms/step - loss: 0.0162 - accuracy: 0.9931 - val_loss: 0.0183 - val_accuracy: 0.9901\n",
            "Epoch 8/10\n",
            "146631/146631 [==============================] - 234s 2ms/step - loss: 0.0155 - accuracy: 0.9933 - val_loss: 0.0095 - val_accuracy: 0.9951\n",
            "Epoch 9/10\n",
            "146631/146631 [==============================] - 240s 2ms/step - loss: 0.0152 - accuracy: 0.9934 - val_loss: 0.0103 - val_accuracy: 0.9939\n",
            "Epoch 10/10\n",
            "146631/146631 [==============================] - 234s 2ms/step - loss: 0.0148 - accuracy: 0.9935 - val_loss: 0.0271 - val_accuracy: 0.9896\n"
          ]
        }
      ]
    },
    {
      "cell_type": "code",
      "metadata": {
        "colab": {
          "base_uri": "https://localhost:8080/",
          "height": 513
        },
        "id": "Vsan7-o-aPU3",
        "outputId": "815b830c-1a8c-444a-8da2-1ebf23f802b6"
      },
      "source": [
        "plt.figure()\n",
        "plt.plot(history.history['loss'], label='training loss')\n",
        "plt.plot(history.history['val_loss'], label='validation loss')\n",
        "plt.legend(loc='best')\n",
        "\n",
        "plt.figure()\n",
        "plt.plot(history.history['accuracy'], label='train accuracy')\n",
        "plt.plot(history.history['val_accuracy'], label='validation accuracy')\n",
        "plt.legend(loc='best')\n",
        "plt.show()"
      ],
      "execution_count": 14,
      "outputs": [
        {
          "output_type": "display_data",
          "data": {
            "image/png": "[encoded data removed]",
            "text/plain": [
              "<Figure size 432x288 with 1 Axes>"
            ]
          },
          "metadata": {
            "needs_background": "light"
          }
        },
        {
          "output_type": "display_data",
          "data": {
            "image/png": "[encoded data removed]",
            "text/plain": [
              "<Figure size 432x288 with 1 Axes>"
            ]
          },
          "metadata": {
            "needs_background": "light"
          }
        }
      ]
    },
    {
      "cell_type": "code",
      "metadata": {
        "colab": {
          "base_uri": "https://localhost:8080/"
        },
        "id": "dPtY3ChP4Xph",
        "outputId": "663f1dd0-8341-4249-8759-acab4cd6aed6"
      },
      "source": [
        "train_score = mlp.evaluate(X_train, y_train)\n",
        "print(\"\\n\\ntrain loss: {} | train acc: {}\\n\".format(train_score[0], train_score[1]))\n",
        "\n",
        "test_score = mlp.evaluate(X_test, y_test)\n",
        "print(\"\\n\\ntest loss: {} | test acc: {}\".format(test_score[0], test_score[1]))"
      ],
      "execution_count": 16,
      "outputs": [
        {
          "output_type": "stream",
          "name": "stdout",
          "text": [
            "162923/162923 [==============================] - 289s 2ms/step - loss: 0.0272 - accuracy: 0.9896\n",
            "\n",
            "\n",
            "train loss: 0.027208611369132996 | train acc: 0.9895637035369873\n",
            "\n",
            "80246/80246 [==============================] - 104s 1ms/step - loss: 0.0272 - accuracy: 0.9895\n",
            "\n",
            "\n",
            "test loss: 0.02717757038772106 | test acc: 0.989522397518158\n"
          ]
        }
      ]
    },
    {
      "cell_type": "markdown",
      "metadata": {
        "id": "jXbcjHG08miE"
      },
      "source": [
        "We have succesfully trained a neural network model, to predict if the customer is rich or not. Training looks a bit overfittited, but the test score is also good.\n"
      ]
    }
  ]
}