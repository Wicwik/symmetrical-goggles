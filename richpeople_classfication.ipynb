{
  "nbformat": 4,
  "nbformat_minor": 0,
  "metadata": {
    "colab": {
      "name": "richpeople_classfication.ipynb",
      "provenance": [],
      "collapsed_sections": []
    },
    "kernelspec": {
      "name": "python3",
      "display_name": "Python 3"
    },
    "language_info": {
      "name": "python"
    }
  },
  "cells": [
    {
      "cell_type": "markdown",
      "metadata": {
        "id": "_LBE-SlvCFRP"
      },
      "source": [
        "# **Classification problem**\n",
        "Rich people classification based on NYC taxi rides dataset.\n",
        "\n",
        "Author: Róber Belanec\n",
        "\n",
        "This notebook is an appendix to the written homework 2 to score some bonus points from task 2. (c."
      ]
    },
    {
      "cell_type": "markdown",
      "metadata": {
        "id": "l43r4vNuCo6C"
      },
      "source": [
        "At first we will download the NYC yellow taxi rides dataset. After that we will import modules and load csv files into a dataframe. We are using datasets from may, june and july 2021."
      ]
    },
    {
      "cell_type": "code",
      "metadata": {
        "colab": {
          "base_uri": "https://localhost:8080/"
        },
        "id": "3I9HBL0MnC1N",
        "outputId": "54055433-6ac7-4b75-c883-0ae7e39ed2e2"
      },
      "source": [
        "!wget https://nyc-tlc.s3.amazonaws.com/trip+data/yellow_tripdata_2021-07.csv\n",
        "!wget https://s3.amazonaws.com/nyc-tlc/trip+data/yellow_tripdata_2021-06.csv\n",
        "!wget https://s3.amazonaws.com/nyc-tlc/trip+data/yellow_tripdata_2021-05.csv"
      ],
      "execution_count": 1,
      "outputs": [
        {
          "output_type": "stream",
          "name": "stdout",
          "text": [
            "--2021-11-28 22:19:33--  https://nyc-tlc.s3.amazonaws.com/trip+data/yellow_tripdata_2021-07.csv\n",
            "Resolving nyc-tlc.s3.amazonaws.com (nyc-tlc.s3.amazonaws.com)... 52.217.130.177\n",
            "Connecting to nyc-tlc.s3.amazonaws.com (nyc-tlc.s3.amazonaws.com)|52.217.130.177|:443... connected.\n",
            "HTTP request sent, awaiting response... 200 OK\n",
            "Length: 261410655 (249M) [text/csv]\n",
            "Saving to: ‘yellow_tripdata_2021-07.csv.1’\n",
            "\n",
            "yellow_tripdata_202 100%[===================>] 249.30M  74.0MB/s    in 3.5s    \n",
            "\n",
            "2021-11-28 22:19:36 (71.4 MB/s) - ‘yellow_tripdata_2021-07.csv.1’ saved [261410655/261410655]\n",
            "\n",
            "--2021-11-28 22:19:36--  https://s3.amazonaws.com/nyc-tlc/trip+data/yellow_tripdata_2021-06.csv\n",
            "Resolving s3.amazonaws.com (s3.amazonaws.com)... 52.216.97.229\n",
            "Connecting to s3.amazonaws.com (s3.amazonaws.com)|52.216.97.229|:443... connected.\n",
            "HTTP request sent, awaiting response... 200 OK\n",
            "Length: 262656180 (250M) [text/csv]\n",
            "Saving to: ‘yellow_tripdata_2021-06.csv.1’\n",
            "\n",
            "yellow_tripdata_202 100%[===================>] 250.49M  58.5MB/s    in 4.1s    \n",
            "\n",
            "2021-11-28 22:19:41 (60.8 MB/s) - ‘yellow_tripdata_2021-06.csv.1’ saved [262656180/262656180]\n",
            "\n",
            "--2021-11-28 22:19:41--  https://s3.amazonaws.com/nyc-tlc/trip+data/yellow_tripdata_2021-05.csv\n",
            "Resolving s3.amazonaws.com (s3.amazonaws.com)... 52.217.137.72\n",
            "Connecting to s3.amazonaws.com (s3.amazonaws.com)|52.217.137.72|:443... connected.\n",
            "HTTP request sent, awaiting response... 200 OK\n",
            "Length: 231988884 (221M) [text/csv]\n",
            "Saving to: ‘yellow_tripdata_2021-05.csv.1’\n",
            "\n",
            "yellow_tripdata_202 100%[===================>] 221.24M  76.7MB/s    in 2.9s    \n",
            "\n",
            "2021-11-28 22:19:44 (76.7 MB/s) - ‘yellow_tripdata_2021-05.csv.1’ saved [231988884/231988884]\n",
            "\n"
          ]
        }
      ]
    },
    {
      "cell_type": "code",
      "metadata": {
        "id": "Dk8jjlzfnKYR"
      },
      "source": [
        "import glob\n",
        "\n",
        "import numpy as np\n",
        "import pandas as pd\n",
        "import seaborn as sns\n",
        "import tensorflow as tf\n",
        "from matplotlib import pyplot as plt\n",
        "\n",
        "from tensorflow import keras\n",
        "from keras.models import Sequential\n",
        "from keras.layers import Conv2D, Dense, Activation, Flatten, MaxPooling2D, BatchNormalization, Dropout\n",
        "from sklearn.model_selection import train_test_split"
      ],
      "execution_count": 24,
      "outputs": []
    },
    {
      "cell_type": "code",
      "metadata": {
        "colab": {
          "base_uri": "https://localhost:8080/"
        },
        "id": "YwYcxQN8nQWC",
        "outputId": "c7e5f883-15de-46d2-c050-ae10c095fb57"
      },
      "source": [
        "path = '/content'\n",
        "all_files = glob.glob(path + '/*.csv')\n",
        "\n",
        "li = []\n",
        "\n",
        "for filename in all_files:\n",
        "    df = pd.read_csv(filename, index_col=None, header=0)\n",
        "    li.append(df)\n",
        "\n",
        "df_yellow = pd.concat(li, axis=0, ignore_index=True)\n",
        "\n",
        "print('Old size: ', len(df_yellow))\n",
        "df_yellow = df_yellow.dropna()\n",
        "print('New size: ', len(df_yellow))"
      ],
      "execution_count": 3,
      "outputs": [
        {
          "output_type": "stream",
          "name": "stderr",
          "text": [
            "/usr/local/lib/python3.7/dist-packages/IPython/core/interactiveshell.py:2718: DtypeWarning: Columns (6) have mixed types.Specify dtype option on import or set low_memory=False.\n",
            "  interactivity=interactivity, compiler=compiler, result=result)\n"
          ]
        },
        {
          "output_type": "stream",
          "name": "stdout",
          "text": [
            "Old size:  8162888\n",
            "New size:  7781398\n"
          ]
        }
      ]
    },
    {
      "cell_type": "markdown",
      "metadata": {
        "id": "Ah7MvmBlDESY"
      },
      "source": [
        "As you can see, we have been dropping NA values from each csv. Therefore we have now 7781398 taxi rides left.\n",
        "\n",
        "Now we can check the dataset basic structure and its datatypes:"
      ]
    },
    {
      "cell_type": "code",
      "metadata": {
        "colab": {
          "base_uri": "https://localhost:8080/",
          "height": 226
        },
        "id": "besZwS-wnQyy",
        "outputId": "f25afe59-7931-4cf0-f3cb-c142df7b5d13"
      },
      "source": [
        "df_yellow.head()"
      ],
      "execution_count": 4,
      "outputs": [
        {
          "output_type": "execute_result",
          "data": {
            "text/html": [
              "<div>\n",
              "<style scoped>\n",
              "    .dataframe tbody tr th:only-of-type {\n",
              "        vertical-align: middle;\n",
              "    }\n",
              "\n",
              "    .dataframe tbody tr th {\n",
              "        vertical-align: top;\n",
              "    }\n",
              "\n",
              "    .dataframe thead th {\n",
              "        text-align: right;\n",
              "    }\n",
              "</style>\n",
              "<table border=\"1\" class=\"dataframe\">\n",
              "  <thead>\n",
              "    <tr style=\"text-align: right;\">\n",
              "      <th></th>\n",
              "      <th>VendorID</th>\n",
              "      <th>tpep_pickup_datetime</th>\n",
              "      <th>tpep_dropoff_datetime</th>\n",
              "      <th>passenger_count</th>\n",
              "      <th>trip_distance</th>\n",
              "      <th>RatecodeID</th>\n",
              "      <th>store_and_fwd_flag</th>\n",
              "      <th>PULocationID</th>\n",
              "      <th>DOLocationID</th>\n",
              "      <th>payment_type</th>\n",
              "      <th>fare_amount</th>\n",
              "      <th>extra</th>\n",
              "      <th>mta_tax</th>\n",
              "      <th>tip_amount</th>\n",
              "      <th>tolls_amount</th>\n",
              "      <th>improvement_surcharge</th>\n",
              "      <th>total_amount</th>\n",
              "      <th>congestion_surcharge</th>\n",
              "    </tr>\n",
              "  </thead>\n",
              "  <tbody>\n",
              "    <tr>\n",
              "      <th>0</th>\n",
              "      <td>1.0</td>\n",
              "      <td>2021-05-01 00:37:18</td>\n",
              "      <td>2021-05-01 00:41:07</td>\n",
              "      <td>2.0</td>\n",
              "      <td>0.70</td>\n",
              "      <td>1.0</td>\n",
              "      <td>N</td>\n",
              "      <td>141</td>\n",
              "      <td>263</td>\n",
              "      <td>1.0</td>\n",
              "      <td>5.0</td>\n",
              "      <td>3.0</td>\n",
              "      <td>0.5</td>\n",
              "      <td>2.20</td>\n",
              "      <td>0.0</td>\n",
              "      <td>0.3</td>\n",
              "      <td>11.00</td>\n",
              "      <td>2.5</td>\n",
              "    </tr>\n",
              "    <tr>\n",
              "      <th>1</th>\n",
              "      <td>1.0</td>\n",
              "      <td>2021-05-01 00:43:01</td>\n",
              "      <td>2021-05-01 00:49:19</td>\n",
              "      <td>1.0</td>\n",
              "      <td>1.40</td>\n",
              "      <td>1.0</td>\n",
              "      <td>N</td>\n",
              "      <td>263</td>\n",
              "      <td>75</td>\n",
              "      <td>2.0</td>\n",
              "      <td>6.5</td>\n",
              "      <td>3.0</td>\n",
              "      <td>0.5</td>\n",
              "      <td>0.00</td>\n",
              "      <td>0.0</td>\n",
              "      <td>0.3</td>\n",
              "      <td>10.30</td>\n",
              "      <td>2.5</td>\n",
              "    </tr>\n",
              "    <tr>\n",
              "      <th>2</th>\n",
              "      <td>1.0</td>\n",
              "      <td>2021-05-01 00:05:54</td>\n",
              "      <td>2021-05-01 00:31:46</td>\n",
              "      <td>1.0</td>\n",
              "      <td>5.70</td>\n",
              "      <td>1.0</td>\n",
              "      <td>N</td>\n",
              "      <td>142</td>\n",
              "      <td>129</td>\n",
              "      <td>2.0</td>\n",
              "      <td>21.5</td>\n",
              "      <td>3.0</td>\n",
              "      <td>0.5</td>\n",
              "      <td>0.00</td>\n",
              "      <td>0.0</td>\n",
              "      <td>0.3</td>\n",
              "      <td>25.30</td>\n",
              "      <td>2.5</td>\n",
              "    </tr>\n",
              "    <tr>\n",
              "      <th>3</th>\n",
              "      <td>2.0</td>\n",
              "      <td>2021-05-01 00:08:21</td>\n",
              "      <td>2021-05-01 00:19:20</td>\n",
              "      <td>1.0</td>\n",
              "      <td>3.04</td>\n",
              "      <td>1.0</td>\n",
              "      <td>N</td>\n",
              "      <td>231</td>\n",
              "      <td>97</td>\n",
              "      <td>1.0</td>\n",
              "      <td>11.5</td>\n",
              "      <td>0.5</td>\n",
              "      <td>0.5</td>\n",
              "      <td>3.06</td>\n",
              "      <td>0.0</td>\n",
              "      <td>0.3</td>\n",
              "      <td>18.36</td>\n",
              "      <td>2.5</td>\n",
              "    </tr>\n",
              "    <tr>\n",
              "      <th>4</th>\n",
              "      <td>2.0</td>\n",
              "      <td>2021-05-01 00:32:44</td>\n",
              "      <td>2021-05-01 00:48:44</td>\n",
              "      <td>1.0</td>\n",
              "      <td>4.04</td>\n",
              "      <td>1.0</td>\n",
              "      <td>N</td>\n",
              "      <td>148</td>\n",
              "      <td>17</td>\n",
              "      <td>1.0</td>\n",
              "      <td>15.5</td>\n",
              "      <td>0.5</td>\n",
              "      <td>0.5</td>\n",
              "      <td>5.79</td>\n",
              "      <td>0.0</td>\n",
              "      <td>0.3</td>\n",
              "      <td>25.09</td>\n",
              "      <td>2.5</td>\n",
              "    </tr>\n",
              "  </tbody>\n",
              "</table>\n",
              "</div>"
            ],
            "text/plain": [
              "   VendorID tpep_pickup_datetime  ... total_amount  congestion_surcharge\n",
              "0       1.0  2021-05-01 00:37:18  ...        11.00                   2.5\n",
              "1       1.0  2021-05-01 00:43:01  ...        10.30                   2.5\n",
              "2       1.0  2021-05-01 00:05:54  ...        25.30                   2.5\n",
              "3       2.0  2021-05-01 00:08:21  ...        18.36                   2.5\n",
              "4       2.0  2021-05-01 00:32:44  ...        25.09                   2.5\n",
              "\n",
              "[5 rows x 18 columns]"
            ]
          },
          "metadata": {},
          "execution_count": 4
        }
      ]
    },
    {
      "cell_type": "code",
      "metadata": {
        "colab": {
          "base_uri": "https://localhost:8080/"
        },
        "id": "lLtBYztBnUFU",
        "outputId": "63d54b1e-7bb3-4446-d826-a95b30a1d929"
      },
      "source": [
        "df_yellow.dtypes"
      ],
      "execution_count": 5,
      "outputs": [
        {
          "output_type": "execute_result",
          "data": {
            "text/plain": [
              "VendorID                 float64\n",
              "tpep_pickup_datetime      object\n",
              "tpep_dropoff_datetime     object\n",
              "passenger_count          float64\n",
              "trip_distance            float64\n",
              "RatecodeID               float64\n",
              "store_and_fwd_flag        object\n",
              "PULocationID               int64\n",
              "DOLocationID               int64\n",
              "payment_type             float64\n",
              "fare_amount              float64\n",
              "extra                    float64\n",
              "mta_tax                  float64\n",
              "tip_amount               float64\n",
              "tolls_amount             float64\n",
              "improvement_surcharge    float64\n",
              "total_amount             float64\n",
              "congestion_surcharge     float64\n",
              "dtype: object"
            ]
          },
          "metadata": {},
          "execution_count": 5
        }
      ]
    },
    {
      "cell_type": "markdown",
      "metadata": {
        "id": "m0wMy9pEEAIe"
      },
      "source": [
        "To see value anges means and more, we can use pandas describe function:"
      ]
    },
    {
      "cell_type": "code",
      "metadata": {
        "colab": {
          "base_uri": "https://localhost:8080/",
          "height": 320
        },
        "id": "Y1nRpQHsnZdv",
        "outputId": "083f8949-55cd-401a-9924-a4777b6fa904"
      },
      "source": [
        "df_yellow.describe()"
      ],
      "execution_count": 6,
      "outputs": [
        {
          "output_type": "execute_result",
          "data": {
            "text/html": [
              "<div>\n",
              "<style scoped>\n",
              "    .dataframe tbody tr th:only-of-type {\n",
              "        vertical-align: middle;\n",
              "    }\n",
              "\n",
              "    .dataframe tbody tr th {\n",
              "        vertical-align: top;\n",
              "    }\n",
              "\n",
              "    .dataframe thead th {\n",
              "        text-align: right;\n",
              "    }\n",
              "</style>\n",
              "<table border=\"1\" class=\"dataframe\">\n",
              "  <thead>\n",
              "    <tr style=\"text-align: right;\">\n",
              "      <th></th>\n",
              "      <th>VendorID</th>\n",
              "      <th>passenger_count</th>\n",
              "      <th>trip_distance</th>\n",
              "      <th>RatecodeID</th>\n",
              "      <th>PULocationID</th>\n",
              "      <th>DOLocationID</th>\n",
              "      <th>payment_type</th>\n",
              "      <th>fare_amount</th>\n",
              "      <th>extra</th>\n",
              "      <th>mta_tax</th>\n",
              "      <th>tip_amount</th>\n",
              "      <th>tolls_amount</th>\n",
              "      <th>improvement_surcharge</th>\n",
              "      <th>total_amount</th>\n",
              "      <th>congestion_surcharge</th>\n",
              "    </tr>\n",
              "  </thead>\n",
              "  <tbody>\n",
              "    <tr>\n",
              "      <th>count</th>\n",
              "      <td>7.781398e+06</td>\n",
              "      <td>7.781398e+06</td>\n",
              "      <td>7.781398e+06</td>\n",
              "      <td>7.781398e+06</td>\n",
              "      <td>7.781398e+06</td>\n",
              "      <td>7.781398e+06</td>\n",
              "      <td>7.781398e+06</td>\n",
              "      <td>7.781398e+06</td>\n",
              "      <td>7.781398e+06</td>\n",
              "      <td>7.781398e+06</td>\n",
              "      <td>7.781398e+06</td>\n",
              "      <td>7.781398e+06</td>\n",
              "      <td>7.781398e+06</td>\n",
              "      <td>7.781398e+06</td>\n",
              "      <td>7.781398e+06</td>\n",
              "    </tr>\n",
              "    <tr>\n",
              "      <th>mean</th>\n",
              "      <td>1.695512e+00</td>\n",
              "      <td>1.440628e+00</td>\n",
              "      <td>3.038025e+00</td>\n",
              "      <td>1.054315e+00</td>\n",
              "      <td>1.653180e+02</td>\n",
              "      <td>1.632367e+02</td>\n",
              "      <td>1.250852e+00</td>\n",
              "      <td>1.268655e+01</td>\n",
              "      <td>1.044107e+00</td>\n",
              "      <td>4.924701e-01</td>\n",
              "      <td>2.303809e+00</td>\n",
              "      <td>3.335950e-01</td>\n",
              "      <td>2.970423e-01</td>\n",
              "      <td>1.879308e+01</td>\n",
              "      <td>2.286863e+00</td>\n",
              "    </tr>\n",
              "    <tr>\n",
              "      <th>std</th>\n",
              "      <td>4.601902e-01</td>\n",
              "      <td>1.049367e+00</td>\n",
              "      <td>6.432167e+00</td>\n",
              "      <td>8.834931e-01</td>\n",
              "      <td>6.566293e+01</td>\n",
              "      <td>7.048385e+01</td>\n",
              "      <td>4.725840e-01</td>\n",
              "      <td>1.197728e+01</td>\n",
              "      <td>1.243526e+00</td>\n",
              "      <td>7.759291e-02</td>\n",
              "      <td>2.734579e+00</td>\n",
              "      <td>1.736321e+00</td>\n",
              "      <td>4.151922e-02</td>\n",
              "      <td>1.462989e+01</td>\n",
              "      <td>7.316379e-01</td>\n",
              "    </tr>\n",
              "    <tr>\n",
              "      <th>min</th>\n",
              "      <td>1.000000e+00</td>\n",
              "      <td>0.000000e+00</td>\n",
              "      <td>0.000000e+00</td>\n",
              "      <td>1.000000e+00</td>\n",
              "      <td>1.000000e+00</td>\n",
              "      <td>1.000000e+00</td>\n",
              "      <td>1.000000e+00</td>\n",
              "      <td>-6.435000e+02</td>\n",
              "      <td>-5.500000e+00</td>\n",
              "      <td>-5.000000e-01</td>\n",
              "      <td>-1.111000e+02</td>\n",
              "      <td>-3.375000e+01</td>\n",
              "      <td>-3.000000e-01</td>\n",
              "      <td>-6.478000e+02</td>\n",
              "      <td>-2.500000e+00</td>\n",
              "    </tr>\n",
              "    <tr>\n",
              "      <th>25%</th>\n",
              "      <td>1.000000e+00</td>\n",
              "      <td>1.000000e+00</td>\n",
              "      <td>1.080000e+00</td>\n",
              "      <td>1.000000e+00</td>\n",
              "      <td>1.320000e+02</td>\n",
              "      <td>1.130000e+02</td>\n",
              "      <td>1.000000e+00</td>\n",
              "      <td>6.500000e+00</td>\n",
              "      <td>0.000000e+00</td>\n",
              "      <td>5.000000e-01</td>\n",
              "      <td>0.000000e+00</td>\n",
              "      <td>0.000000e+00</td>\n",
              "      <td>3.000000e-01</td>\n",
              "      <td>1.147000e+01</td>\n",
              "      <td>2.500000e+00</td>\n",
              "    </tr>\n",
              "    <tr>\n",
              "      <th>50%</th>\n",
              "      <td>2.000000e+00</td>\n",
              "      <td>1.000000e+00</td>\n",
              "      <td>1.800000e+00</td>\n",
              "      <td>1.000000e+00</td>\n",
              "      <td>1.620000e+02</td>\n",
              "      <td>1.620000e+02</td>\n",
              "      <td>1.000000e+00</td>\n",
              "      <td>9.000000e+00</td>\n",
              "      <td>5.000000e-01</td>\n",
              "      <td>5.000000e-01</td>\n",
              "      <td>2.000000e+00</td>\n",
              "      <td>0.000000e+00</td>\n",
              "      <td>3.000000e-01</td>\n",
              "      <td>1.476000e+01</td>\n",
              "      <td>2.500000e+00</td>\n",
              "    </tr>\n",
              "    <tr>\n",
              "      <th>75%</th>\n",
              "      <td>2.000000e+00</td>\n",
              "      <td>2.000000e+00</td>\n",
              "      <td>3.130000e+00</td>\n",
              "      <td>1.000000e+00</td>\n",
              "      <td>2.340000e+02</td>\n",
              "      <td>2.340000e+02</td>\n",
              "      <td>1.000000e+00</td>\n",
              "      <td>1.400000e+01</td>\n",
              "      <td>2.500000e+00</td>\n",
              "      <td>5.000000e-01</td>\n",
              "      <td>3.000000e+00</td>\n",
              "      <td>0.000000e+00</td>\n",
              "      <td>3.000000e-01</td>\n",
              "      <td>2.016000e+01</td>\n",
              "      <td>2.500000e+00</td>\n",
              "    </tr>\n",
              "    <tr>\n",
              "      <th>max</th>\n",
              "      <td>2.000000e+00</td>\n",
              "      <td>9.000000e+00</td>\n",
              "      <td>1.315552e+04</td>\n",
              "      <td>9.900000e+01</td>\n",
              "      <td>2.650000e+02</td>\n",
              "      <td>2.650000e+02</td>\n",
              "      <td>5.000000e+00</td>\n",
              "      <td>5.954000e+03</td>\n",
              "      <td>9.006000e+01</td>\n",
              "      <td>4.550000e+00</td>\n",
              "      <td>4.492100e+02</td>\n",
              "      <td>9.565500e+02</td>\n",
              "      <td>3.000000e-01</td>\n",
              "      <td>5.954000e+03</td>\n",
              "      <td>2.750000e+00</td>\n",
              "    </tr>\n",
              "  </tbody>\n",
              "</table>\n",
              "</div>"
            ],
            "text/plain": [
              "           VendorID  passenger_count  ...  total_amount  congestion_surcharge\n",
              "count  7.781398e+06     7.781398e+06  ...  7.781398e+06          7.781398e+06\n",
              "mean   1.695512e+00     1.440628e+00  ...  1.879308e+01          2.286863e+00\n",
              "std    4.601902e-01     1.049367e+00  ...  1.462989e+01          7.316379e-01\n",
              "min    1.000000e+00     0.000000e+00  ... -6.478000e+02         -2.500000e+00\n",
              "25%    1.000000e+00     1.000000e+00  ...  1.147000e+01          2.500000e+00\n",
              "50%    2.000000e+00     1.000000e+00  ...  1.476000e+01          2.500000e+00\n",
              "75%    2.000000e+00     2.000000e+00  ...  2.016000e+01          2.500000e+00\n",
              "max    2.000000e+00     9.000000e+00  ...  5.954000e+03          2.750000e+00\n",
              "\n",
              "[8 rows x 15 columns]"
            ]
          },
          "metadata": {},
          "execution_count": 6
        }
      ]
    },
    {
      "cell_type": "markdown",
      "metadata": {
        "id": "EeF0C0f2EKaT"
      },
      "source": [
        "As we have stated in our written homework, to predict, if the customer is rather rich, we will be using drop off location, passenger count and tip amount. We will pick only those and rename the columns.\n",
        "\n",
        "We can also find passenger count values that are 0. We will replace them with 1 as we assume that it's not possible to have 0 passengers."
      ]
    },
    {
      "cell_type": "code",
      "metadata": {
        "id": "Z8zY4yKYnbTX"
      },
      "source": [
        "df_important = df_yellow[['DOLocationID', 'passenger_count', 'tip_amount']].rename(columns={'DOLocationID':'location', 'passenger_count':'passengers', 'tip_amount':'tip'})\n",
        "df_important['passengers'].replace({0:1}, inplace=True)"
      ],
      "execution_count": 7,
      "outputs": []
    },
    {
      "cell_type": "markdown",
      "metadata": {
        "id": "TOOsHzB0Fp6d"
      },
      "source": [
        "Now we will calculate the tip per passenger and get a mean from it."
      ]
    },
    {
      "cell_type": "code",
      "metadata": {
        "colab": {
          "base_uri": "https://localhost:8080/"
        },
        "id": "y8pFlZdioNBM",
        "outputId": "6f9d55b2-f287-4741-b27e-e70b72515cbc"
      },
      "source": [
        "tips = (df_important['tip'] / df_important['passengers'])\n",
        "tips_mean = tips.mean()\n",
        "print('Mean of tips per passenger:', tips_mean)"
      ],
      "execution_count": 8,
      "outputs": [
        {
          "output_type": "stream",
          "name": "stdout",
          "text": [
            "Mean of tips per passenger: 1.9522823101731621\n"
          ]
        }
      ]
    },
    {
      "cell_type": "markdown",
      "metadata": {
        "id": "Aq6E-wKwF0CP"
      },
      "source": [
        "As we can see, the mean is around 1.95 per passenger. Now we will set the marigin 1 that will mean that every ride that had tip more than 2.95"
      ]
    },
    {
      "cell_type": "code",
      "metadata": {
        "colab": {
          "base_uri": "https://localhost:8080/"
        },
        "id": "ExJvqSndtViZ",
        "outputId": "f4d7462a-eba4-4aef-f9ab-4986dca22e1d"
      },
      "source": [
        "margin = 1\n",
        "print('Number of rich people: ', len(df_important.loc[df_important['tip'] / df_important['passengers'] > tips_mean + margin]))\n",
        "print('Number of not rich people: ', len(df_important.loc[df_important['tip'] / df_important['passengers'] <= tips_mean + margin]))"
      ],
      "execution_count": 9,
      "outputs": [
        {
          "output_type": "stream",
          "name": "stdout",
          "text": [
            "Number of rich people:  1631059\n",
            "Number of not rich people:  6150339\n"
          ]
        }
      ]
    },
    {
      "cell_type": "code",
      "metadata": {
        "colab": {
          "base_uri": "https://localhost:8080/",
          "height": 206
        },
        "id": "qxbCjLDvtX36",
        "outputId": "d220cc54-3b39-495f-f100-a09ed48e53ff"
      },
      "source": [
        "df_important.loc[df_important['tip'] / df_important['passengers'] > tips_mean + margin, 'rich'] = 1\n",
        "df_important.loc[df_important['tip'] / df_important['passengers'] <= tips_mean + margin, 'rich'] = 0\n",
        "df_important.head()"
      ],
      "execution_count": 10,
      "outputs": [
        {
          "output_type": "execute_result",
          "data": {
            "text/html": [
              "<div>\n",
              "<style scoped>\n",
              "    .dataframe tbody tr th:only-of-type {\n",
              "        vertical-align: middle;\n",
              "    }\n",
              "\n",
              "    .dataframe tbody tr th {\n",
              "        vertical-align: top;\n",
              "    }\n",
              "\n",
              "    .dataframe thead th {\n",
              "        text-align: right;\n",
              "    }\n",
              "</style>\n",
              "<table border=\"1\" class=\"dataframe\">\n",
              "  <thead>\n",
              "    <tr style=\"text-align: right;\">\n",
              "      <th></th>\n",
              "      <th>location</th>\n",
              "      <th>passengers</th>\n",
              "      <th>tip</th>\n",
              "      <th>rich</th>\n",
              "    </tr>\n",
              "  </thead>\n",
              "  <tbody>\n",
              "    <tr>\n",
              "      <th>0</th>\n",
              "      <td>263</td>\n",
              "      <td>2.0</td>\n",
              "      <td>2.20</td>\n",
              "      <td>0.0</td>\n",
              "    </tr>\n",
              "    <tr>\n",
              "      <th>1</th>\n",
              "      <td>75</td>\n",
              "      <td>1.0</td>\n",
              "      <td>0.00</td>\n",
              "      <td>0.0</td>\n",
              "    </tr>\n",
              "    <tr>\n",
              "      <th>2</th>\n",
              "      <td>129</td>\n",
              "      <td>1.0</td>\n",
              "      <td>0.00</td>\n",
              "      <td>0.0</td>\n",
              "    </tr>\n",
              "    <tr>\n",
              "      <th>3</th>\n",
              "      <td>97</td>\n",
              "      <td>1.0</td>\n",
              "      <td>3.06</td>\n",
              "      <td>1.0</td>\n",
              "    </tr>\n",
              "    <tr>\n",
              "      <th>4</th>\n",
              "      <td>17</td>\n",
              "      <td>1.0</td>\n",
              "      <td>5.79</td>\n",
              "      <td>1.0</td>\n",
              "    </tr>\n",
              "  </tbody>\n",
              "</table>\n",
              "</div>"
            ],
            "text/plain": [
              "   location  passengers   tip  rich\n",
              "0       263         2.0  2.20   0.0\n",
              "1        75         1.0  0.00   0.0\n",
              "2       129         1.0  0.00   0.0\n",
              "3        97         1.0  3.06   1.0\n",
              "4        17         1.0  5.79   1.0"
            ]
          },
          "metadata": {},
          "execution_count": 10
        }
      ]
    },
    {
      "cell_type": "code",
      "metadata": {
        "colab": {
          "base_uri": "https://localhost:8080/",
          "height": 362
        },
        "id": "7_m3Khsl8G96",
        "outputId": "0d5a684f-1cb5-4e2b-ff80-faec2cbf96b5"
      },
      "source": [
        "sns.countplot(df_important['rich'])"
      ],
      "execution_count": 11,
      "outputs": [
        {
          "output_type": "stream",
          "name": "stderr",
          "text": [
            "/usr/local/lib/python3.7/dist-packages/seaborn/_decorators.py:43: FutureWarning: Pass the following variable as a keyword arg: x. From version 0.12, the only valid positional argument will be `data`, and passing other arguments without an explicit keyword will result in an error or misinterpretation.\n",
            "  FutureWarning\n"
          ]
        },
        {
          "output_type": "execute_result",
          "data": {
            "text/plain": [
              "<matplotlib.axes._subplots.AxesSubplot at 0x7f5d76ea1110>"
            ]
          },
          "metadata": {},
          "execution_count": 11
        },
        {
          "output_type": "display_data",
          "data": {
            "image/png": "[encoded data removed]",
            "text/plain": [
              "<Figure size 432x288 with 1 Axes>"
            ]
          },
          "metadata": {
            "needs_background": "light"
          }
        }
      ]
    },
    {
      "cell_type": "code",
      "metadata": {
        "colab": {
          "base_uri": "https://localhost:8080/"
        },
        "id": "idQeJvg-8ruY",
        "outputId": "f9273397-f753-43ff-c9d9-3485badf2936"
      },
      "source": [
        "data = df_important.to_numpy()\n",
        "X = data[:, :-1]\n",
        "y = data[:, -1]\n",
        "\n",
        "print('Data shape: ', data.shape)\n",
        "print('X shape: ', X.shape)\n",
        "print('y shape: ', y.shape)\n",
        "\n",
        "X_train ,X_test, y_train, y_test = train_test_split(X, y, test_size=0.33)\n",
        "\n",
        "print('X_train shape: ', X_train.shape)\n",
        "print('y_train shape: ', y_train.shape)\n",
        "print('X_test shape: ', X_test.shape)\n",
        "print('y_test shape: ', y_test.shape)"
      ],
      "execution_count": 14,
      "outputs": [
        {
          "output_type": "stream",
          "name": "stdout",
          "text": [
            "Data shape:  (7781398, 4)\n",
            "X shape:  (7781398, 3)\n",
            "y shape:  (7781398,)\n",
            "X_train shape:  (5213536, 3)\n",
            "y_train shape:  (5213536,)\n",
            "X_test shape:  (2567862, 3)\n",
            "y_test shape:  (2567862,)\n"
          ]
        }
      ]
    },
    {
      "cell_type": "markdown",
      "metadata": {
        "id": "YUAU1WKhnJCx"
      },
      "source": [
        "Our first attempt was to use SVMs for this problem. But regarding to SO [article](https://datascience.stackexchange.com/questions/989/svm-using-scikit-learn-runs-endlessly-and-never-completes-execution), it's not recomended to use SVM when we have over 200K observations (or we can approximate the kernel matrix using K-means). We will use neural networks then."
      ]
    },
    {
      "cell_type": "code",
      "metadata": {
        "colab": {
          "base_uri": "https://localhost:8080/"
        },
        "id": "Cjt3dehRIF7_",
        "outputId": "84d2cec5-afa0-4673-a3d0-26c4a63574dc"
      },
      "source": [
        "mlp = Sequential()\n",
        "mlp.add(Dense(100, activation='tanh', input_dim=X_train.shape[1]))\n",
        "mlp.add(Dense(100, activation='tanh'))\n",
        "mlp.add(Dense(2, activation='softmax'))\n",
        "\n",
        "mlp.compile(loss='categorical_crossentropy', optimizer=keras.optimizers.Adam(0.04),  metrics=['accuracy'])\n",
        "\n",
        "history = mlp.fit(X_train, tf.keras.utils.to_categorical(y_train), epochs=30, validation_split=0.1, verbose=True)"
      ],
      "execution_count": 23,
      "outputs": [
        {
          "output_type": "stream",
          "name": "stdout",
          "text": [
            "Epoch 1/30\n",
            "146631/146631 [==============================] - 332s 2ms/step - loss: 0.5161 - accuracy: 0.8023 - val_loss: 0.5828 - val_accuracy: 0.8877\n",
            "Epoch 2/30\n",
            "146631/146631 [==============================] - 337s 2ms/step - loss: 0.4198 - accuracy: 0.8371 - val_loss: 0.3548 - val_accuracy: 0.8766\n",
            "Epoch 3/30\n",
            "146631/146631 [==============================] - 333s 2ms/step - loss: 0.3759 - accuracy: 0.8568 - val_loss: 0.3172 - val_accuracy: 0.8876\n",
            "Epoch 4/30\n",
            "146631/146631 [==============================] - 332s 2ms/step - loss: 0.3354 - accuracy: 0.8696 - val_loss: 0.3695 - val_accuracy: 0.8229\n",
            "Epoch 5/30\n",
            "146631/146631 [==============================] - 332s 2ms/step - loss: 0.3340 - accuracy: 0.8733 - val_loss: 0.3784 - val_accuracy: 0.8699\n",
            "Epoch 6/30\n",
            "146631/146631 [==============================] - 337s 2ms/step - loss: 0.3221 - accuracy: 0.8811 - val_loss: 0.3300 - val_accuracy: 0.8744\n",
            "Epoch 7/30\n",
            "146631/146631 [==============================] - 340s 2ms/step - loss: 0.3149 - accuracy: 0.8794 - val_loss: 0.1986 - val_accuracy: 0.9678\n",
            "Epoch 8/30\n",
            "146631/146631 [==============================] - 343s 2ms/step - loss: 0.2865 - accuracy: 0.8866 - val_loss: 0.1950 - val_accuracy: 0.9570\n",
            "Epoch 9/30\n",
            "146631/146631 [==============================] - 337s 2ms/step - loss: 0.2800 - accuracy: 0.8928 - val_loss: 0.2446 - val_accuracy: 0.9027\n",
            "Epoch 10/30\n",
            "146631/146631 [==============================] - 329s 2ms/step - loss: 0.2915 - accuracy: 0.8866 - val_loss: 0.2686 - val_accuracy: 0.8980\n",
            "Epoch 11/30\n",
            "146631/146631 [==============================] - 338s 2ms/step - loss: 0.2732 - accuracy: 0.8923 - val_loss: 0.2216 - val_accuracy: 0.9124\n",
            "Epoch 12/30\n",
            "146631/146631 [==============================] - 331s 2ms/step - loss: 0.2781 - accuracy: 0.8958 - val_loss: 0.1324 - val_accuracy: 0.9315\n",
            "Epoch 13/30\n",
            "146631/146631 [==============================] - 326s 2ms/step - loss: 0.2834 - accuracy: 0.8980 - val_loss: 0.3758 - val_accuracy: 0.8786\n",
            "Epoch 14/30\n",
            "146631/146631 [==============================] - 330s 2ms/step - loss: 0.2754 - accuracy: 0.8922 - val_loss: 0.1705 - val_accuracy: 0.9521\n",
            "Epoch 15/30\n",
            "146631/146631 [==============================] - 327s 2ms/step - loss: 0.2527 - accuracy: 0.9055 - val_loss: 0.2620 - val_accuracy: 0.9307\n",
            "Epoch 16/30\n",
            "146631/146631 [==============================] - 322s 2ms/step - loss: 0.2719 - accuracy: 0.8964 - val_loss: 0.0583 - val_accuracy: 0.9813\n",
            "Epoch 17/30\n",
            "146631/146631 [==============================] - 325s 2ms/step - loss: 0.2655 - accuracy: 0.8975 - val_loss: 0.2191 - val_accuracy: 0.9115\n",
            "Epoch 18/30\n",
            "146631/146631 [==============================] - 330s 2ms/step - loss: 0.2656 - accuracy: 0.8984 - val_loss: 0.2761 - val_accuracy: 0.8791\n",
            "Epoch 19/30\n",
            "146631/146631 [==============================] - 329s 2ms/step - loss: 0.2639 - accuracy: 0.9066 - val_loss: 0.2336 - val_accuracy: 0.9181\n",
            "Epoch 20/30\n",
            "146631/146631 [==============================] - 328s 2ms/step - loss: 0.2525 - accuracy: 0.9120 - val_loss: 0.0792 - val_accuracy: 0.9506\n",
            "Epoch 21/30\n",
            "146631/146631 [==============================] - 330s 2ms/step - loss: 0.2560 - accuracy: 0.9090 - val_loss: 0.2138 - val_accuracy: 0.9556\n",
            "Epoch 22/30\n",
            "146631/146631 [==============================] - 328s 2ms/step - loss: 0.2622 - accuracy: 0.8981 - val_loss: 0.4960 - val_accuracy: 0.9059\n",
            "Epoch 23/30\n",
            "146631/146631 [==============================] - 324s 2ms/step - loss: 0.2870 - accuracy: 0.8993 - val_loss: 0.2771 - val_accuracy: 0.8891\n",
            "Epoch 24/30\n",
            "146631/146631 [==============================] - 327s 2ms/step - loss: 0.2636 - accuracy: 0.9045 - val_loss: 0.1951 - val_accuracy: 0.9675\n",
            "Epoch 25/30\n",
            "146631/146631 [==============================] - 329s 2ms/step - loss: 0.2294 - accuracy: 0.9214 - val_loss: 0.2154 - val_accuracy: 0.8737\n",
            "Epoch 26/30\n",
            "146631/146631 [==============================] - 328s 2ms/step - loss: 0.2404 - accuracy: 0.9184 - val_loss: 0.0869 - val_accuracy: 0.9869\n",
            "Epoch 27/30\n",
            "146631/146631 [==============================] - 322s 2ms/step - loss: 0.2252 - accuracy: 0.9150 - val_loss: 0.2225 - val_accuracy: 0.8954\n",
            "Epoch 28/30\n",
            "146631/146631 [==============================] - 328s 2ms/step - loss: 0.2582 - accuracy: 0.9010 - val_loss: 0.0759 - val_accuracy: 0.9869\n",
            "Epoch 29/30\n",
            "146631/146631 [==============================] - 333s 2ms/step - loss: 0.2327 - accuracy: 0.9168 - val_loss: 0.2931 - val_accuracy: 0.9322\n",
            "Epoch 30/30\n",
            "146631/146631 [==============================] - 333s 2ms/step - loss: 0.2100 - accuracy: 0.9199 - val_loss: 0.1730 - val_accuracy: 0.8739\n"
          ]
        }
      ]
    },
    {
      "cell_type": "code",
      "metadata": {
        "colab": {
          "base_uri": "https://localhost:8080/",
          "height": 514
        },
        "id": "cymYfL2bpGAD",
        "outputId": "a13339e8-fffc-4ed4-c1cc-d0e2df7b3e7a"
      },
      "source": [
        "plt.figure()\n",
        "plt.plot(history.history['loss'], label='training loss')\n",
        "plt.plot(history.history['val_loss'], label='validation loss')\n",
        "plt.legend(loc='best')\n",
        "\n",
        "plt.figure()\n",
        "plt.plot(history.history['accuracy'], label='train accuracy')\n",
        "plt.plot(history.history['val_accuracy'], label='validation accuracy')\n",
        "plt.legend(loc='best')\n",
        "plt.show()"
      ],
      "execution_count": 25,
      "outputs": [
        {
          "output_type": "display_data",
          "data": {
            "image/png": "[encoded data removed]",
            "text/plain": [
              "<Figure size 432x288 with 1 Axes>"
            ]
          },
          "metadata": {
            "needs_background": "light"
          }
        },
        {
          "output_type": "display_data",
          "data": {
            "image/png": "[encoded data removed]",
            "text/plain": [
              "<Figure size 432x288 with 1 Axes>"
            ]
          },
          "metadata": {
            "needs_background": "light"
          }
        }
      ]
    },
    {
      "cell_type": "code",
      "metadata": {
        "colab": {
          "base_uri": "https://localhost:8080/"
        },
        "id": "SrW5d_yuG2_6",
        "outputId": "29d75de0-8649-4417-d0a1-7c39f172fcbd"
      },
      "source": [
        "train_score = mlp.evaluate(X_train, tf.keras.utils.to_categorical(y_train))\n",
        "print(\"\\n\\ntrain loss: {} | train acc: {}\\n\".format(train_score[0], train_score[1]))\n",
        "\n",
        "test_score = mlp.evaluate(X_test, tf.keras.utils.to_categorical(y_test))\n",
        "print(\"\\n\\ntest loss: {} | test acc: {}\".format(test_score[0], test_score[1]))"
      ],
      "execution_count": 26,
      "outputs": [
        {
          "output_type": "stream",
          "name": "stdout",
          "text": [
            "162923/162923 [==============================] - 308s 2ms/step - loss: 0.1737 - accuracy: 0.8737\n",
            "\n",
            "\n",
            "train loss: 0.17368768155574799 | train acc: 0.8736529350280762\n",
            "\n",
            "80246/80246 [==============================] - 113s 1ms/step - loss: 0.1744 - accuracy: 0.8736\n",
            "\n",
            "\n",
            "test loss: 0.17438951134681702 | test acc: 0.8735967874526978\n"
          ]
        }
      ]
    }
  ]
}